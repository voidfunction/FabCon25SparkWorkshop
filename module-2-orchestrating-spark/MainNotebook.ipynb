{
 "cells": [
  {
   "cell_type": "code",
   "execution_count": null,
   "id": "da464788",
   "metadata": {},
   "outputs": [],
   "source": [
    "# Create a DataFrame from the data\n",
    "df = spark.createDataFrame(data)\n",
    "\n",
    "# Display the DataFrame\n",
    "display(df)\n",
    "\n",
    "# Print the Schema of the Dataframe\n",
    "df.printSchema()"
   ]
  },
  {
   "cell_type": "markdown",
   "id": "501c7d8f-9c7b-4dad-b215-15bdb306c6a5",
   "metadata": {
    "microsoft": {
     "language": "python",
     "language_group": "synapse_pyspark"
    },
    "nteract": {
     "transient": {
      "deleting": false
     }
    }
   },
   "source": [
    "\n",
    "## [Reference Notebook by NotebookUtils](https://learn.microsoft.com/en-us/fabric/data-engineering/notebook-utilities#reference-a-notebook)\n",
    "\n",
    "This method references a notebook and returns its exit value. You can run nesting function calls in a notebook interactively or in a pipeline. The notebook being referenced runs on the Spark pool of the notebook that calls this function.\n",
    "\n",
    "### reference a single notebook\n",
    "\n",
    "```notebookutils.notebook.run(\"notebook name\", <timeoutSeconds>, <parameterMap>, <workspaceId>)```\n"
   ]
  },
  {
   "cell_type": "code",
   "execution_count": 26,
   "id": "7af0a0fa-d5bb-439f-aeaa-6aba5c1c8d9f",
   "metadata": {
    "microsoft": {
     "language": "python",
     "language_group": "synapse_pyspark"
    }
   },
   "outputs": [
    {
     "data": {
      "application/vnd.livy.statement-meta+json": {
       "execution_finish_time": "2025-03-17T11:07:04.7699604Z",
       "execution_start_time": "2025-03-17T11:07:03.0912892Z",
       "livy_statement_state": null,
       "normalized_state": "finished",
       "parent_msg_id": "4f8961eb-6664-43d6-8cfc-0d08f0cb9539",
       "queued_time": "2025-03-17T11:07:03.0906882Z",
       "session_id": "9e70e3d5-7cab-4b3d-b694-b1eb555eb447",
       "session_start_time": null,
       "spark_pool": null,
       "state": "finished",
       "statement_id": 31,
       "statement_ids": [
        28,
        29,
        30,
        31
       ]
      },
      "text/plain": [
       "StatementMeta(, 9e70e3d5-7cab-4b3d-b694-b1eb555eb447, 31, Finished, , Finished)"
      ]
     },
     "metadata": {},
     "output_type": "display_data"
    },
    {
     "name": "stdout",
     "output_type": "stream",
     "text": [
      "this is child notebook with parameter1 = value1\tparameter2 = value2\n",
      "ExitValue: exit with current Notebook Name: MainNotebook"
     ]
    }
   ],
   "source": [
    " %run childNotebook1 { 'parameter1': 'value1', 'parameter2': 'value2'}"
   ]
  },
  {
   "cell_type": "code",
   "execution_count": 27,
   "id": "59e9d919-ceb1-4161-bc36-c13006c41320",
   "metadata": {
    "microsoft": {
     "language": "python",
     "language_group": "synapse_pyspark"
    }
   },
   "outputs": [
    {
     "data": {
      "application/vnd.livy.statement-meta+json": {
       "execution_finish_time": "2025-03-17T11:07:23.4151892Z",
       "execution_start_time": "2025-03-17T11:07:11.1779408Z",
       "livy_statement_state": "available",
       "normalized_state": "finished",
       "parent_msg_id": "555729e1-8972-4dc4-a9e1-fc5deff5a003",
       "queued_time": "2025-03-17T11:07:11.1766876Z",
       "session_id": "9e70e3d5-7cab-4b3d-b694-b1eb555eb447",
       "session_start_time": null,
       "spark_pool": null,
       "state": "finished",
       "statement_id": 32,
       "statement_ids": [
        32
       ]
      },
      "text/plain": [
       "StatementMeta(, 9e70e3d5-7cab-4b3d-b694-b1eb555eb447, 32, Finished, Available, Finished)"
      ]
     },
     "metadata": {},
     "output_type": "display_data"
    },
    {
     "data": {
      "application/vnd.synapse.mssparkutilsrun-result+json": {
       "artifact_id": "8e7ce44c-6959-450c-b81b-3e87f752a171",
       "capacity_id": "34DCCAEE-6FED-48E1-A442-D090FD391707",
       "error": null,
       "in_pipeline": false,
       "notebook_name": "childNotebook1",
       "root_artifact_id": "4795fcaa-08c3-4ab7-8f57-785eb183a744",
       "run_id": "2a7c4012-ff11-42fa-94f5-3acef6ef3e6f",
       "session_id": "9e70e3d5-7cab-4b3d-b694-b1eb555eb447",
       "snapshot_error": null,
       "snapshot_path": "",
       "snapshot_status": "success",
       "spark_pool": "Starter Pool",
       "workspace_id": "6c9c97f9-7418-448f-8e6a-63b4d93283e1"
      }
     },
     "metadata": {},
     "output_type": "display_data"
    },
    {
     "name": "stdout",
     "output_type": "stream",
     "text": [
      "exit vaule = exit with current Notebook Name: childNotebook1\n"
     ]
    }
   ],
   "source": [
    "exitVaule = notebookutils.notebook.run('childNotebook1', 100, {'parameter1': 'value1', 'parameter2': 'value2'})\n",
    "print(f'exit vaule = {exitVaule}')"
   ]
  },
  {
   "cell_type": "markdown",
   "id": "e52239b2-f64d-4daf-b34a-c224939ab56f",
   "metadata": {
    "microsoft": {
     "language": "python",
     "language_group": "synapse_pyspark"
    },
    "nteract": {
     "transient": {
      "deleting": false
     }
    }
   },
   "source": [
    "### Reference run multiple notebooks in parallel\n",
    "\n",
    "The method ```notebookutils.notebook.runMultiple()``` allows you to run multiple notebooks in parallel or with a predefined topological structure. The API is using a multi-thread implementation mechanism within a spark session, which means the reference notebook runs share the compute resources. code example:\n",
    "\n",
    "```\n",
    "notebookutils.notebook.runMultiple([\"NotebookSimple\", \"NotebookSimple2\"])\n",
    "```"
   ]
  },
  {
   "cell_type": "code",
   "execution_count": 15,
   "id": "6b6a14ac-ccdf-4198-b5b9-74adfdea7c7f",
   "metadata": {
    "microsoft": {
     "language": "python",
     "language_group": "synapse_pyspark"
    }
   },
   "outputs": [
    {
     "data": {
      "application/vnd.livy.statement-meta+json": {
       "execution_finish_time": "2025-03-17T10:44:48.4340501Z",
       "execution_start_time": "2025-03-17T10:44:30.7709039Z",
       "livy_statement_state": "available",
       "normalized_state": "finished",
       "parent_msg_id": "f455b51e-95ab-40a3-afe9-afe9269be774",
       "queued_time": "2025-03-17T10:44:30.769644Z",
       "session_id": "9e70e3d5-7cab-4b3d-b694-b1eb555eb447",
       "session_start_time": null,
       "spark_pool": null,
       "state": "finished",
       "statement_id": 17,
       "statement_ids": [
        17
       ]
      },
      "text/plain": [
       "StatementMeta(, 9e70e3d5-7cab-4b3d-b694-b1eb555eb447, 17, Finished, Available, Finished)"
      ]
     },
     "metadata": {},
     "output_type": "display_data"
    },
    {
     "data": {
      "application/vnd.synapse.mssparkutilsrunmultiple-result+json": {
       "activities": [
        {
         "activity_name": "0",
         "args": {},
         "artifact_id": "8e7ce44c-6959-450c-b81b-3e87f752a171",
         "capacity_id": "34DCCAEE-6FED-48E1-A442-D090FD391707",
         "duration": 9776,
         "end_time": 1742208281232,
         "exception": "",
         "exit_value": "my exit valule:",
         "in_pipeline": false,
         "notebook_name": "childNotebook1",
         "progress": 100,
         "root_artifact_id": "4795fcaa-08c3-4ab7-8f57-785eb183a744",
         "run_id": "352815b8-02e6-418c-b3f3-43cafedac7b5",
         "session_id": "9e70e3d5-7cab-4b3d-b694-b1eb555eb447",
         "snapshot_error": "",
         "snapshot_status": "success",
         "spark_pool": "Starter Pool",
         "start_time": 1742208271456,
         "status": "success",
         "status_msg": "Success",
         "workspace_id": "6c9c97f9-7418-448f-8e6a-63b4d93283e1"
        },
        {
         "activity_name": "1",
         "args": {},
         "artifact_id": "160d21dc-0141-4fd8-b382-e2422b00e6ea",
         "capacity_id": "34DCCAEE-6FED-48E1-A442-D090FD391707",
         "duration": 9772,
         "end_time": 1742208281228,
         "exception": "",
         "exit_value": "exit with current Notebook Name: childNotebook2",
         "in_pipeline": false,
         "notebook_name": "childNotebook2",
         "progress": 100,
         "root_artifact_id": "4795fcaa-08c3-4ab7-8f57-785eb183a744",
         "run_id": "7e3cb8e7-ce22-4032-a08c-254bbfb5acc4",
         "session_id": "9e70e3d5-7cab-4b3d-b694-b1eb555eb447",
         "snapshot_error": "",
         "snapshot_status": "success",
         "spark_pool": "Starter Pool",
         "start_time": 1742208271456,
         "status": "success",
         "status_msg": "Success",
         "workspace_id": "6c9c97f9-7418-448f-8e6a-63b4d93283e1"
        }
       ],
       "limit": 50,
       "numbers": {
        "failed": 0,
        "pending": 0,
        "running": 0,
        "succeeded": 2
       }
      }
     },
     "metadata": {},
     "output_type": "display_data"
    },
    {
     "name": "stdout",
     "output_type": "stream",
     "text": [
      "{\n",
      "    \"activity1\": {\n",
      "        \"exitVal\": \"my exit valule: value1\\tvalue1\",\n",
      "        \"exception\": null\n",
      "    },\n",
      "    \"activity2\": {\n",
      "        \"exitVal\": \"exit with current Notebook Name: childNotebook2\",\n",
      "        \"exception\": null\n",
      "    }\n",
      "}\n"
     ]
    }
   ],
   "source": [
    "import json\n",
    "\n",
    "exitCodes = notebookutils.notebook.runMultiple([\"childNotebook1\", \"childNotebook2\"])\n",
    "print(json.dumps(exitValues, indent=4))"
   ]
  },
  {
   "cell_type": "code",
   "execution_count": 16,
   "id": "f1acabac-c166-4b3c-b4f1-d4f8d970422c",
   "metadata": {
    "microsoft": {
     "language": "python",
     "language_group": "synapse_pyspark"
    }
   },
   "outputs": [
    {
     "data": {
      "application/vnd.livy.statement-meta+json": {
       "execution_finish_time": "2025-03-17T10:45:05.4449776Z",
       "execution_start_time": "2025-03-17T10:44:48.436528Z",
       "livy_statement_state": "available",
       "normalized_state": "finished",
       "parent_msg_id": "42f8a5d2-47f8-4329-b79f-33c8e9554f7f",
       "queued_time": "2025-03-17T10:44:43.3500438Z",
       "session_id": "9e70e3d5-7cab-4b3d-b694-b1eb555eb447",
       "session_start_time": null,
       "spark_pool": null,
       "state": "finished",
       "statement_id": 18,
       "statement_ids": [
        18
       ]
      },
      "text/plain": [
       "StatementMeta(, 9e70e3d5-7cab-4b3d-b694-b1eb555eb447, 18, Finished, Available, Finished)"
      ]
     },
     "metadata": {},
     "output_type": "display_data"
    },
    {
     "data": {
      "application/vnd.synapse.mssparkutilsrunmultiple-result+json": {
       "activities": [
        {
         "activity_name": "activity1",
         "args": {
          "parameter1": "value1",
          "parameter2": "value1"
         },
         "artifact_id": "8e7ce44c-6959-450c-b81b-3e87f752a171",
         "capacity_id": "34DCCAEE-6FED-48E1-A442-D090FD391707",
         "duration": 8884,
         "end_time": 1742208298230,
         "exception": "",
         "exit_value": "my exit valule: value1\tvalue1",
         "in_pipeline": false,
         "notebook_name": "childNotebook1",
         "progress": 100,
         "root_artifact_id": "4795fcaa-08c3-4ab7-8f57-785eb183a744",
         "run_id": "b9ac0133-aabb-4253-ab4e-154101eb6ded",
         "session_id": "9e70e3d5-7cab-4b3d-b694-b1eb555eb447",
         "snapshot_error": "",
         "snapshot_status": "success",
         "spark_pool": "Starter Pool",
         "start_time": 1742208289346,
         "status": "success",
         "status_msg": "Success",
         "workspace_id": "6c9c97f9-7418-448f-8e6a-63b4d93283e1"
        },
        {
         "activity_name": "activity2",
         "args": {
          "input1": "changed value 2",
          "input2": 200
         },
         "artifact_id": "160d21dc-0141-4fd8-b382-e2422b00e6ea",
         "capacity_id": "34DCCAEE-6FED-48E1-A442-D090FD391707",
         "duration": 10138,
         "end_time": 1742208299484,
         "exception": "",
         "exit_value": "exit with current Notebook Name: childNotebook2",
         "in_pipeline": false,
         "notebook_name": "childNotebook2",
         "progress": 100,
         "root_artifact_id": "4795fcaa-08c3-4ab7-8f57-785eb183a744",
         "run_id": "efe81b14-f242-479e-a114-665e5b83371b",
         "session_id": "9e70e3d5-7cab-4b3d-b694-b1eb555eb447",
         "snapshot_error": "",
         "snapshot_status": "success",
         "spark_pool": "Starter Pool",
         "start_time": 1742208289346,
         "status": "success",
         "status_msg": "Success",
         "workspace_id": "6c9c97f9-7418-448f-8e6a-63b4d93283e1"
        }
       ],
       "limit": 50,
       "numbers": {
        "failed": 0,
        "pending": 0,
        "running": 0,
        "succeeded": 2
       }
      }
     },
     "metadata": {},
     "output_type": "display_data"
    },
    {
     "name": "stdout",
     "output_type": "stream",
     "text": [
      "{\n",
      "    \"activity1\": {\n",
      "        \"exitVal\": \"my exit valule: value1\\tvalue1\",\n",
      "        \"exception\": null\n",
      "    },\n",
      "    \"activity2\": {\n",
      "        \"exitVal\": \"exit with current Notebook Name: childNotebook2\",\n",
      "        \"exception\": null\n",
      "    }\n",
      "}\n"
     ]
    }
   ],
   "source": [
    "# run multiple notebooks with parameters\n",
    "import json\n",
    "dag = {\n",
    "    'activities': [\n",
    "        {\n",
    "            'name': 'activity1', # activity name, must be unique\n",
    "            'path': 'childNotebook1', # notebook path\n",
    "            'timeoutPerCellInSeconds': 90, # max timeout for each cell, default to 90 seconds\n",
    "            'args': {'parameter1': 'value1', 'parameter2': 'value1'}, # notebook parameters\n",
    "        },\n",
    "        {\n",
    "            'name': 'activity2',\n",
    "            'path': 'childNotebook2',\n",
    "            'timeoutPerCellInSeconds': 120,\n",
    "            'args': {'input1': 'changed value 2', 'input2': 200}\n",
    "        }\n",
    "    ],\n",
    "    'timeoutInSeconds': 43200, # max timeout for the entire DAG, default to 12 hours\n",
    "    'concurrency': 50 # max number of notebooks to run concurrently, default to 50\n",
    "}\n",
    "\n",
    "notebookutils.notebook.validateDAG(dag)\n",
    "\n",
    "exitValues = notebookutils.notebook.runMultiple(dag, {'displayDAGViaGraphviz': False})\n",
    "\n",
    "print(json.dumps(exitValues, indent=4))"
   ]
  },
  {
   "cell_type": "code",
   "execution_count": 21,
   "id": "4784af08-2f68-4d72-abf2-1e08e567b1c8",
   "metadata": {
    "microsoft": {
     "language": "python",
     "language_group": "synapse_pyspark"
    }
   },
   "outputs": [
    {
     "data": {
      "application/vnd.livy.statement-meta+json": {
       "execution_finish_time": "2025-03-17T10:50:25.9711781Z",
       "execution_start_time": "2025-03-17T10:50:13.6161264Z",
       "livy_statement_state": "available",
       "normalized_state": "finished",
       "parent_msg_id": "cd4cb260-fe40-4e73-a7a8-a7d802180589",
       "queued_time": "2025-03-17T10:50:13.6148218Z",
       "session_id": "9e70e3d5-7cab-4b3d-b694-b1eb555eb447",
       "session_start_time": null,
       "spark_pool": null,
       "state": "finished",
       "statement_id": 23,
       "statement_ids": [
        23
       ]
      },
      "text/plain": [
       "StatementMeta(, 9e70e3d5-7cab-4b3d-b694-b1eb555eb447, 23, Finished, Available, Finished)"
      ]
     },
     "metadata": {},
     "output_type": "display_data"
    },
    {
     "data": {
      "application/vnd.synapse.mssparkutilsrun-result+json": {
       "artifact_id": "160d21dc-0141-4fd8-b382-e2422b00e6ea",
       "capacity_id": "34DCCAEE-6FED-48E1-A442-D090FD391707",
       "error": null,
       "in_pipeline": false,
       "notebook_name": "childNotebook2",
       "root_artifact_id": "4795fcaa-08c3-4ab7-8f57-785eb183a744",
       "run_id": "74854ffa-2ec6-4562-85eb-30becc695e2a",
       "session_id": "9e70e3d5-7cab-4b3d-b694-b1eb555eb447",
       "snapshot_error": null,
       "snapshot_path": "",
       "snapshot_status": "success",
       "spark_pool": "Starter Pool",
       "workspace_id": "6c9c97f9-7418-448f-8e6a-63b4d93283e1"
      }
     },
     "metadata": {},
     "output_type": "display_data"
    },
    {
     "data": {
      "application/vnd.synapse.mssparkutilsrun-result+json": {
       "artifact_id": "8e7ce44c-6959-450c-b81b-3e87f752a171",
       "capacity_id": "34DCCAEE-6FED-48E1-A442-D090FD391707",
       "error": null,
       "in_pipeline": false,
       "notebook_name": "childNotebook1",
       "root_artifact_id": "4795fcaa-08c3-4ab7-8f57-785eb183a744",
       "run_id": "f597e6e8-36f2-4e4b-bada-996fc8e8b63a",
       "session_id": "9e70e3d5-7cab-4b3d-b694-b1eb555eb447",
       "snapshot_error": null,
       "snapshot_path": "",
       "snapshot_status": "success",
       "spark_pool": "Starter Pool",
       "workspace_id": "6c9c97f9-7418-448f-8e6a-63b4d93283e1"
      }
     },
     "metadata": {},
     "output_type": "display_data"
    },
    {
     "name": "stdout",
     "output_type": "stream",
     "text": [
      "reference run results:  ['my exit valule:', 'exit with current Notebook Name: childNotebook2']\n"
     ]
    }
   ],
   "source": [
    "from multiprocessing.pool import ThreadPool\n",
    "\n",
    "def reference_notebook(name: str) -> str:\n",
    "    return notebookutils.notebook.run(name)\n",
    "\n",
    "names = ['childNotebook1', 'childNotebook2']\n",
    "# Create a ThreadPool with 3 worker threads\n",
    "\n",
    "with ThreadPool(3) as pool:\n",
    "    results = pool.map(reference_notebook, names)\n",
    "\n",
    "# Print the results\n",
    "print(\"reference run results: \", results)"
   ]
  },
  {
   "cell_type": "markdown",
   "id": "823eb317-145f-4e58-a173-bf9105f0afb1",
   "metadata": {
    "microsoft": {
     "language": "python",
     "language_group": "synapse_pyspark"
    },
    "nteract": {
     "transient": {
      "deleting": false
     }
    }
   },
   "source": [
    "### [Notebook resources](https://learn.microsoft.com/en-us/fabric/data-engineering/how-to-use-notebook#notebook-resources)\n",
    "The notebook resource explorer provides a Unix-like file system to help you manage your folders and files. It offers a writeable file system space where you can store small-sized files, such as code modules, semantic models, and images. You can easily access them with code in the notebook as if you were working with your local file system."
   ]
  },
  {
   "cell_type": "code",
   "execution_count": 25,
   "id": "2e436b6b-3a5b-4511-bdf6-901ead3aa483",
   "metadata": {
    "microsoft": {
     "language": "python",
     "language_group": "synapse_pyspark"
    }
   },
   "outputs": [
    {
     "data": {
      "application/vnd.livy.statement-meta+json": {
       "execution_finish_time": "2025-03-17T10:58:24.0734783Z",
       "execution_start_time": "2025-03-17T10:58:23.716965Z",
       "livy_statement_state": "available",
       "normalized_state": "finished",
       "parent_msg_id": "63bc2b43-5a21-4702-be89-1b45f06ba96b",
       "queued_time": "2025-03-17T10:58:23.7154782Z",
       "session_id": "9e70e3d5-7cab-4b3d-b694-b1eb555eb447",
       "session_start_time": null,
       "spark_pool": null,
       "state": "finished",
       "statement_id": 27,
       "statement_ids": [
        27
       ]
      },
      "text/plain": [
       "StatementMeta(, 9e70e3d5-7cab-4b3d-b694-b1eb555eb447, 27, Finished, Available, Finished)"
      ]
     },
     "metadata": {},
     "output_type": "display_data"
    },
    {
     "name": "stdout",
     "output_type": "stream",
     "text": [
      "this is a function in my own module\n"
     ]
    }
   ],
   "source": [
    "import builtin.my as my\n",
    "# Now use the exported members from this module with identifier: `my`\n",
    "my.func()"
   ]
  }
 ],
 "metadata": {
  "a365ComputeOptions": null,
  "dependencies": {
   "lakehouse": null
  },
  "kernel_info": {
   "name": "synapse_pyspark"
  },
  "kernelspec": {
   "display_name": "synapse_pyspark",
   "language": null,
   "name": "synapse_pyspark"
  },
  "language_info": {
   "name": "python"
  },
  "microsoft": {
   "language": "python",
   "language_group": "synapse_pyspark",
   "ms_spell_check": {
    "ms_spell_check_language": "en"
   }
  },
  "nteract": {
   "version": "nteract-front-end@1.0.0"
  },
  "sessionKeepAliveTimeout": 0,
  "spark_compute": {
   "compute_id": "/trident/default",
   "session_options": {
    "conf": {
     "spark.synapse.nbs.session.timeout": "1200000"
    }
   }
  }
 },
 "nbformat": 4,
 "nbformat_minor": 5
}
